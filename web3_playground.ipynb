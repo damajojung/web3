{
 "cells": [
  {
   "cell_type": "code",
   "execution_count": 2,
   "metadata": {},
   "outputs": [],
   "source": [
    "# This is a test."
   ]
  },
  {
   "cell_type": "code",
   "execution_count": 1,
   "metadata": {},
   "outputs": [],
   "source": [
    "import solcx"
   ]
  },
  {
   "cell_type": "code",
   "execution_count": 3,
   "metadata": {},
   "outputs": [
    {
     "data": {
      "text/plain": [
       "Version('0.8.0')"
      ]
     },
     "execution_count": 3,
     "metadata": {},
     "output_type": "execute_result"
    }
   ],
   "source": [
    "# solcx.install_solc('0.6.0')\n",
    "# solcx.install_solc('0.8.0')"
   ]
  },
  {
   "cell_type": "code",
   "execution_count": 2,
   "metadata": {},
   "outputs": [
    {
     "name": "stdout",
     "output_type": "stream",
     "text": [
      "// SPDX-License-Identifier: MIT\n",
      "\n",
      "pragma solidity ^0.8.0;\n",
      "\n",
      "contract SimpleStorage {\n",
      "    // just like a class\n",
      "\n",
      "    // Here we have some options for data types\n",
      "    //bool favoriteBool = true;\n",
      "    //string favoriteString = \"String\";\n",
      "    //int256 favoriteInt = -5;\n",
      "    //address favortieAddress = 0x5635842bd632C27D221598763581331D3F117C1f;\n",
      "    // bytes32 favoriteBytes = \"cat\";\n",
      "\n",
      "    uint256 favoriteNumber; //this will get initialised as 0\n",
      "\n",
      "    struct People {\n",
      "        uint256 favoriteNumber;\n",
      "        string name;\n",
      "    }\n",
      "\n",
      "    // People public person = People({favoriteNumber: 2, name: \"David\"}); Thats how you create one person\n",
      "\n",
      "    // But we want to have a list of people - This can be done with arrays\n",
      "\n",
      "    // array\n",
      "    People[] public people; //It's a People array and we call it people - [] = variable array - [1] fixed size of 1 (only one entry allowed)\n",
      "\n",
      "    // mapping\n",
      "    // A dictionary like data structure with 1 value per key\n",
      "    mapping(string => uint256) public nameToFavoriteNumber; // the string is going to be mapped to uint256\n",
      "\n",
      "    function store(uint256 _favoriteNumber) public {\n",
      "        favoriteNumber = _favoriteNumber;\n",
      "        // uint test = 4; //this is a local variable, can only be used within the function\n",
      "    }\n",
      "\n",
      "    // view & pure:\n",
      "    // view is only to read some state of the blockchain - since we only read from blockchain, we do not pay any gas for it\n",
      "    // pure fuctions are functions that purely do some math - but we do not save anything - state of blockchain it not changed\n",
      "    function retrieve() public view returns (uint256) {\n",
      "        return favoriteNumber;\n",
      "    }\n",
      "\n",
      "    //function retrieve_pure(uint favoriteNumber) public pure {\n",
      "    //    return favoriteNumber + favoriteNumber;\n",
      "    //}\n",
      "\n",
      "    // memory: data will only be stored during the execution of the function\n",
      "    // storage: data will be persist even after the function was executed\n",
      "    function addPerson(string memory _name, uint256 _favoriteNumber) public {\n",
      "        people.push(People({favoriteNumber: _favoriteNumber, name: _name})); // Add person to array\n",
      "        nameToFavoriteNumber[_name] = _favoriteNumber; // We are going to map the name to the favorite number - mapping\n",
      "    }\n",
      "\n",
      "    // mappings\n",
      "    // What if I'm looking for a person?\n",
      "}\n",
      "\n"
     ]
    },
    {
     "ename": "SolcError",
     "evalue": "Unknown key \"Language\"\n> command: `/Users/dj/.solcx/solc-v0.8.0 --standard-json`\n> return code: `0`\n> stdout:\n{\"errors\":[{\"component\":\"general\",\"formattedMessage\":\"Unknown key \\\"Language\\\"\",\"message\":\"Unknown key \\\"Language\\\"\",\"severity\":\"error\",\"type\":\"JSONError\"}]}\n\n> stderr:",
     "output_type": "error",
     "traceback": [
      "\u001b[0;31m---------------------------------------------------------------------------\u001b[0m",
      "\u001b[0;31mSolcError\u001b[0m                                 Traceback (most recent call last)",
      "\u001b[0;32m/var/folders/9r/pl8035cn4cjb59msrdwcrvhr0000gn/T/ipykernel_2072/1283368842.py\u001b[0m in \u001b[0;36m<module>\u001b[0;34m\u001b[0m\n\u001b[1;32m     21\u001b[0m         },\n\u001b[1;32m     22\u001b[0m     },\n\u001b[0;32m---> 23\u001b[0;31m     \u001b[0msolc_version\u001b[0m\u001b[0;34m=\u001b[0m\u001b[0;34m\"0.8.0\"\u001b[0m\u001b[0;34m,\u001b[0m\u001b[0;34m\u001b[0m\u001b[0;34m\u001b[0m\u001b[0m\n\u001b[0m\u001b[1;32m     24\u001b[0m )\n\u001b[1;32m     25\u001b[0m \u001b[0;34m\u001b[0m\u001b[0m\n",
      "\u001b[0;32m/opt/anaconda3/envs/web3/lib/python3.7/site-packages/solcx/main.py\u001b[0m in \u001b[0;36mcompile_standard\u001b[0;34m(input_data, base_path, allow_paths, output_dir, overwrite, solc_binary, solc_version, allow_empty)\u001b[0m\n\u001b[1;32m    399\u001b[0m                 \u001b[0mstdout_data\u001b[0m\u001b[0;34m=\u001b[0m\u001b[0mstdoutdata\u001b[0m\u001b[0;34m,\u001b[0m\u001b[0;34m\u001b[0m\u001b[0;34m\u001b[0m\u001b[0m\n\u001b[1;32m    400\u001b[0m                 \u001b[0mstderr_data\u001b[0m\u001b[0;34m=\u001b[0m\u001b[0mstderrdata\u001b[0m\u001b[0;34m,\u001b[0m\u001b[0;34m\u001b[0m\u001b[0;34m\u001b[0m\u001b[0m\n\u001b[0;32m--> 401\u001b[0;31m                 \u001b[0merror_dict\u001b[0m\u001b[0;34m=\u001b[0m\u001b[0mcompiler_output\u001b[0m\u001b[0;34m[\u001b[0m\u001b[0;34m\"errors\"\u001b[0m\u001b[0;34m]\u001b[0m\u001b[0;34m,\u001b[0m\u001b[0;34m\u001b[0m\u001b[0;34m\u001b[0m\u001b[0m\n\u001b[0m\u001b[1;32m    402\u001b[0m             )\n\u001b[1;32m    403\u001b[0m     \u001b[0;32mreturn\u001b[0m \u001b[0mcompiler_output\u001b[0m\u001b[0;34m\u001b[0m\u001b[0;34m\u001b[0m\u001b[0m\n",
      "\u001b[0;31mSolcError\u001b[0m: Unknown key \"Language\"\n> command: `/Users/dj/.solcx/solc-v0.8.0 --standard-json`\n> return code: `0`\n> stdout:\n{\"errors\":[{\"component\":\"general\",\"formattedMessage\":\"Unknown key \\\"Language\\\"\",\"message\":\"Unknown key \\\"Language\\\"\",\"severity\":\"error\",\"type\":\"JSONError\"}]}\n\n> stderr:"
     ]
    }
   ],
   "source": [
    "import solcx\n",
    "from solcx import compile_standard, install_solc\n",
    "\n",
    "solcx.install_solc(\"0.8.0\")\n",
    "import json\n",
    "\n",
    "with open(\"/Users/dj/Documents/GitHub/web3/demos/web3_py_simple_storage/SimpleStorage.sol\", \"r\") as file:\n",
    "    simple_storage_file = file.read()\n",
    "    print(simple_storage_file)\n",
    "\n",
    "# Compile our solidity\n",
    "\n",
    "compiled_sol = compile_standard(\n",
    "    {\n",
    "        \"Language\": \"Solidity\",\n",
    "        \"sources\": {\"SimpleStorage.sol\": {\"content\": simple_storage_file}},\n",
    "        \"settings\": {\n",
    "            \"outputSelection\": {\n",
    "                \"*\": {\"*\": [\"abi\", \"metadata\", \"evm.bytecode\", \"evm.sourceMap\"]}\n",
    "            }\n",
    "        },\n",
    "    },\n",
    "    solc_version=\"0.8.0\",\n",
    ")\n",
    "\n",
    "print(compiled_sol)"
   ]
  },
  {
   "cell_type": "code",
   "execution_count": null,
   "metadata": {},
   "outputs": [],
   "source": []
  },
  {
   "cell_type": "code",
   "execution_count": null,
   "metadata": {},
   "outputs": [],
   "source": []
  },
  {
   "cell_type": "code",
   "execution_count": null,
   "metadata": {},
   "outputs": [],
   "source": []
  }
 ],
 "metadata": {
  "kernelspec": {
   "display_name": "Python 3.7.13 ('web3')",
   "language": "python",
   "name": "python3"
  },
  "language_info": {
   "codemirror_mode": {
    "name": "ipython",
    "version": 3
   },
   "file_extension": ".py",
   "mimetype": "text/x-python",
   "name": "python",
   "nbconvert_exporter": "python",
   "pygments_lexer": "ipython3",
   "version": "3.7.13"
  },
  "orig_nbformat": 4,
  "vscode": {
   "interpreter": {
    "hash": "05d0262f40faf2dffdff03c93768496e5db82dc748f6c271fdc59e82cbbbecfd"
   }
  }
 },
 "nbformat": 4,
 "nbformat_minor": 2
}
