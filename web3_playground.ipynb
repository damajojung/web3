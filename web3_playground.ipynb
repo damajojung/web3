{
 "cells": [
  {
   "cell_type": "code",
   "execution_count": null,
   "metadata": {},
   "outputs": [],
   "source": [
    "# This is a test. "
   ]
  }
 ],
 "metadata": {
  "kernelspec": {
   "display_name": "Python 3.7.13 ('web3')",
   "language": "python",
   "name": "python3"
  },
  "language_info": {
   "name": "python",
   "version": "3.7.13"
  },
  "orig_nbformat": 4,
  "vscode": {
   "interpreter": {
    "hash": "05d0262f40faf2dffdff03c93768496e5db82dc748f6c271fdc59e82cbbbecfd"
   }
  }
 },
 "nbformat": 4,
 "nbformat_minor": 2
}
